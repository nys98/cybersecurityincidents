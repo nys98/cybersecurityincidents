{
  "nbformat": 4,
  "nbformat_minor": 0,
  "metadata": {
    "colab": {
      "provenance": [],
      "collapsed_sections": []
    },
    "kernelspec": {
      "name": "python3",
      "display_name": "Python 3"
    },
    "language_info": {
      "name": "python"
    }
  },
  "cells": [
    {
      "cell_type": "code",
      "source": [
        "!pip install PyPDF2"
      ],
      "metadata": {
        "colab": {
          "base_uri": "https://localhost:8080/"
        },
        "id": "7OJsqviYf-ff",
        "outputId": "b7faf971-7847-4c09-bb2f-383858d6e2dc"
      },
      "execution_count": null,
      "outputs": [
        {
          "output_type": "stream",
          "name": "stdout",
          "text": [
            "Looking in indexes: https://pypi.org/simple, https://us-python.pkg.dev/colab-wheels/public/simple/\n",
            "Requirement already satisfied: PyPDF2 in /usr/local/lib/python3.7/dist-packages (2.11.1)\n",
            "Requirement already satisfied: typing-extensions>=3.10.0.0 in /usr/local/lib/python3.7/dist-packages (from PyPDF2) (4.1.1)\n"
          ]
        }
      ]
    },
    {
      "cell_type": "code",
      "source": [
        "!pip install pycryptodome"
      ],
      "metadata": {
        "colab": {
          "base_uri": "https://localhost:8080/"
        },
        "id": "14z_YWaage05",
        "outputId": "cd6748ef-d0ea-4b0f-805c-bc4c5f0d4e65"
      },
      "execution_count": null,
      "outputs": [
        {
          "output_type": "stream",
          "name": "stdout",
          "text": [
            "Looking in indexes: https://pypi.org/simple, https://us-python.pkg.dev/colab-wheels/public/simple/\n",
            "Requirement already satisfied: pycryptodome in /usr/local/lib/python3.7/dist-packages (3.15.0)\n"
          ]
        }
      ]
    },
    {
      "cell_type": "code",
      "execution_count": null,
      "metadata": {
        "id": "ribH84Mkf4KE"
      },
      "outputs": [],
      "source": [
        "import PyPDF2\n",
        "import re\n",
        "import pandas as pd"
      ]
    },
    {
      "cell_type": "code",
      "source": [
        "pdfReader = PyPDF2.PdfFileReader('221006_Significant_Cyber_Incidents.pdf')"
      ],
      "metadata": {
        "id": "8NtDNv2Hh2AY"
      },
      "execution_count": null,
      "outputs": []
    },
    {
      "cell_type": "code",
      "source": [
        "print(pdfReader.numPages)"
      ],
      "metadata": {
        "colab": {
          "base_uri": "https://localhost:8080/"
        },
        "id": "6-O98Pyig0cZ",
        "outputId": "cdc114f1-a35b-4531-c662-2ee32a883c5a"
      },
      "execution_count": null,
      "outputs": [
        {
          "output_type": "stream",
          "name": "stdout",
          "text": [
            "75\n"
          ]
        }
      ]
    },
    {
      "cell_type": "markdown",
      "source": [
        "Extract text info to dataframe"
      ],
      "metadata": {
        "id": "cvWlaaB2zBJH"
      }
    },
    {
      "cell_type": "code",
      "source": [
        "month_match = r'[A-Z][a-z]+ 20[012][0-9]'\n",
        "data = None\n",
        "\n",
        "for i in range(pdfReader.numPages):\n",
        "  contents = pdfReader.getPage(i).extract_text()\n",
        "\n",
        "  # remove header\n",
        "  contents = re.sub('\\n \\nCenter for Strategic and International Studies \\(CSIS\\) \\| Washington, D.C. ', '', contents)\n",
        "\n",
        "  if i == 0:\n",
        "    contents = re.sub('      \\n \\n \\n \\n \\n \\nSignificant Cyber Incidents Since 2006  \\n \\nThis list is a work in progress that we update as new incidents come to light. If you have \\nsuggestions for additions, se nd them to strategictech @csis.org.  Significance is in the eye of the \\nbeholder, but we focus on cyber -attacks on government agencies, defense and high tech \\ncompanies, or economic crimes with losses of more than a million dollars.  \\n \\n', '', contents)\n",
        "\n",
        "\n",
        "  mth_start_idx = re.finditer(month_match, contents)\n",
        "\n",
        "  start = 0\n",
        "\n",
        "  # iterate through each entry\n",
        "  for j in mth_start_idx:\n",
        "    # get entry text\n",
        "    entry = re.sub('\\n', '', contents[start:j.start(0)])\n",
        "    entry = re.sub('\\s\\s+', ' ', contents[start:j.start(0)])\n",
        "\n",
        "    # check for trailing descriptions\n",
        "    if start == 0 and j.start(0) > 0:\n",
        "      data.iloc[-1].Description = ' '.join([data.iloc[-1].Description, entry])\n",
        "      start = j.start(0)\n",
        "      continue\n",
        "\n",
        "    if data is not None:\n",
        "      # add entry to dataframe\n",
        "      entry = pd.DataFrame({'Description': [entry] })\n",
        "      data = data.append(entry, ignore_index=True)\n",
        "      start = j.start(0)\n",
        "    else:\n",
        "      data = pd.DataFrame({'Description': [entry] })\n",
        "    \n",
        "  # add last entry\n",
        "  entry = re.sub('\\n', '', contents[start:])\n",
        "  entry = re.sub('\\s\\s+', ' ', contents[start:])\n",
        "  entry = pd.DataFrame({'Description': [entry] })\n",
        "  data = data.append(entry, ignore_index=True)"
      ],
      "metadata": {
        "id": "bGO3RWnLypJ4"
      },
      "execution_count": null,
      "outputs": []
    },
    {
      "cell_type": "code",
      "source": [
        "data"
      ],
      "metadata": {
        "colab": {
          "base_uri": "https://localhost:8080/",
          "height": 423
        },
        "id": "bZ3x-j651pxR",
        "outputId": "8a2f5b2d-dcef-4787-9e2a-be3b64467a1a"
      },
      "execution_count": null,
      "outputs": [
        {
          "output_type": "execute_result",
          "data": {
            "text/plain": [
              "                                           Description\n",
              "0     September 2022. Iranian hackers targeted Alba...\n",
              "1    September 2022. Hackers targeted Montenegro’s ...\n",
              "2    September 2022. Hackers targeted the state -le...\n",
              "3    September 2022. China accused the U.S. Nationa...\n",
              "4    September 2022. The group Anonymous took respo...\n",
              "..                                                 ...\n",
              "919  December 2006. NASA was forced to block emails...\n",
              "920  November 2006. Hackers attempted to penetrate ...\n",
              "921  August 2006. A senior A ir Force Officer state...\n",
              "922  May 2006. The Department of State’s networks w...\n",
              "923  April 2005 . Chinese hackers infiltrated NASA ...\n",
              "\n",
              "[924 rows x 1 columns]"
            ],
            "text/html": [
              "\n",
              "  <div id=\"df-85913682-6c8d-4a3c-b231-cbfdf308ed86\">\n",
              "    <div class=\"colab-df-container\">\n",
              "      <div>\n",
              "<style scoped>\n",
              "    .dataframe tbody tr th:only-of-type {\n",
              "        vertical-align: middle;\n",
              "    }\n",
              "\n",
              "    .dataframe tbody tr th {\n",
              "        vertical-align: top;\n",
              "    }\n",
              "\n",
              "    .dataframe thead th {\n",
              "        text-align: right;\n",
              "    }\n",
              "</style>\n",
              "<table border=\"1\" class=\"dataframe\">\n",
              "  <thead>\n",
              "    <tr style=\"text-align: right;\">\n",
              "      <th></th>\n",
              "      <th>Description</th>\n",
              "    </tr>\n",
              "  </thead>\n",
              "  <tbody>\n",
              "    <tr>\n",
              "      <th>0</th>\n",
              "      <td>September 2022. Iranian hackers targeted Alba...</td>\n",
              "    </tr>\n",
              "    <tr>\n",
              "      <th>1</th>\n",
              "      <td>September 2022. Hackers targeted Montenegro’s ...</td>\n",
              "    </tr>\n",
              "    <tr>\n",
              "      <th>2</th>\n",
              "      <td>September 2022. Hackers targeted the state -le...</td>\n",
              "    </tr>\n",
              "    <tr>\n",
              "      <th>3</th>\n",
              "      <td>September 2022. China accused the U.S. Nationa...</td>\n",
              "    </tr>\n",
              "    <tr>\n",
              "      <th>4</th>\n",
              "      <td>September 2022. The group Anonymous took respo...</td>\n",
              "    </tr>\n",
              "    <tr>\n",
              "      <th>...</th>\n",
              "      <td>...</td>\n",
              "    </tr>\n",
              "    <tr>\n",
              "      <th>919</th>\n",
              "      <td>December 2006. NASA was forced to block emails...</td>\n",
              "    </tr>\n",
              "    <tr>\n",
              "      <th>920</th>\n",
              "      <td>November 2006. Hackers attempted to penetrate ...</td>\n",
              "    </tr>\n",
              "    <tr>\n",
              "      <th>921</th>\n",
              "      <td>August 2006. A senior A ir Force Officer state...</td>\n",
              "    </tr>\n",
              "    <tr>\n",
              "      <th>922</th>\n",
              "      <td>May 2006. The Department of State’s networks w...</td>\n",
              "    </tr>\n",
              "    <tr>\n",
              "      <th>923</th>\n",
              "      <td>April 2005 . Chinese hackers infiltrated NASA ...</td>\n",
              "    </tr>\n",
              "  </tbody>\n",
              "</table>\n",
              "<p>924 rows × 1 columns</p>\n",
              "</div>\n",
              "      <button class=\"colab-df-convert\" onclick=\"convertToInteractive('df-85913682-6c8d-4a3c-b231-cbfdf308ed86')\"\n",
              "              title=\"Convert this dataframe to an interactive table.\"\n",
              "              style=\"display:none;\">\n",
              "        \n",
              "  <svg xmlns=\"http://www.w3.org/2000/svg\" height=\"24px\"viewBox=\"0 0 24 24\"\n",
              "       width=\"24px\">\n",
              "    <path d=\"M0 0h24v24H0V0z\" fill=\"none\"/>\n",
              "    <path d=\"M18.56 5.44l.94 2.06.94-2.06 2.06-.94-2.06-.94-.94-2.06-.94 2.06-2.06.94zm-11 1L8.5 8.5l.94-2.06 2.06-.94-2.06-.94L8.5 2.5l-.94 2.06-2.06.94zm10 10l.94 2.06.94-2.06 2.06-.94-2.06-.94-.94-2.06-.94 2.06-2.06.94z\"/><path d=\"M17.41 7.96l-1.37-1.37c-.4-.4-.92-.59-1.43-.59-.52 0-1.04.2-1.43.59L10.3 9.45l-7.72 7.72c-.78.78-.78 2.05 0 2.83L4 21.41c.39.39.9.59 1.41.59.51 0 1.02-.2 1.41-.59l7.78-7.78 2.81-2.81c.8-.78.8-2.07 0-2.86zM5.41 20L4 18.59l7.72-7.72 1.47 1.35L5.41 20z\"/>\n",
              "  </svg>\n",
              "      </button>\n",
              "      \n",
              "  <style>\n",
              "    .colab-df-container {\n",
              "      display:flex;\n",
              "      flex-wrap:wrap;\n",
              "      gap: 12px;\n",
              "    }\n",
              "\n",
              "    .colab-df-convert {\n",
              "      background-color: #E8F0FE;\n",
              "      border: none;\n",
              "      border-radius: 50%;\n",
              "      cursor: pointer;\n",
              "      display: none;\n",
              "      fill: #1967D2;\n",
              "      height: 32px;\n",
              "      padding: 0 0 0 0;\n",
              "      width: 32px;\n",
              "    }\n",
              "\n",
              "    .colab-df-convert:hover {\n",
              "      background-color: #E2EBFA;\n",
              "      box-shadow: 0px 1px 2px rgba(60, 64, 67, 0.3), 0px 1px 3px 1px rgba(60, 64, 67, 0.15);\n",
              "      fill: #174EA6;\n",
              "    }\n",
              "\n",
              "    [theme=dark] .colab-df-convert {\n",
              "      background-color: #3B4455;\n",
              "      fill: #D2E3FC;\n",
              "    }\n",
              "\n",
              "    [theme=dark] .colab-df-convert:hover {\n",
              "      background-color: #434B5C;\n",
              "      box-shadow: 0px 1px 3px 1px rgba(0, 0, 0, 0.15);\n",
              "      filter: drop-shadow(0px 1px 2px rgba(0, 0, 0, 0.3));\n",
              "      fill: #FFFFFF;\n",
              "    }\n",
              "  </style>\n",
              "\n",
              "      <script>\n",
              "        const buttonEl =\n",
              "          document.querySelector('#df-85913682-6c8d-4a3c-b231-cbfdf308ed86 button.colab-df-convert');\n",
              "        buttonEl.style.display =\n",
              "          google.colab.kernel.accessAllowed ? 'block' : 'none';\n",
              "\n",
              "        async function convertToInteractive(key) {\n",
              "          const element = document.querySelector('#df-85913682-6c8d-4a3c-b231-cbfdf308ed86');\n",
              "          const dataTable =\n",
              "            await google.colab.kernel.invokeFunction('convertToInteractive',\n",
              "                                                     [key], {});\n",
              "          if (!dataTable) return;\n",
              "\n",
              "          const docLinkHtml = 'Like what you see? Visit the ' +\n",
              "            '<a target=\"_blank\" href=https://colab.research.google.com/notebooks/data_table.ipynb>data table notebook</a>'\n",
              "            + ' to learn more about interactive tables.';\n",
              "          element.innerHTML = '';\n",
              "          dataTable['output_type'] = 'display_data';\n",
              "          await google.colab.output.renderOutput(dataTable, element);\n",
              "          const docLink = document.createElement('div');\n",
              "          docLink.innerHTML = docLinkHtml;\n",
              "          element.appendChild(docLink);\n",
              "        }\n",
              "      </script>\n",
              "    </div>\n",
              "  </div>\n",
              "  "
            ]
          },
          "metadata": {},
          "execution_count": 184
        }
      ]
    },
    {
      "cell_type": "code",
      "source": [
        "data.to_csv('cybersecurity_incidents_descriptions.csv')"
      ],
      "metadata": {
        "id": "QTPjs0sJ6qhk"
      },
      "execution_count": null,
      "outputs": []
    }
  ]
}